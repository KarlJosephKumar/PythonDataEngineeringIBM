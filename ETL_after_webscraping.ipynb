{
 "cells": [
  {
   "cell_type": "code",
   "execution_count": 1,
   "metadata": {
    "tags": []
   },
   "outputs": [],
   "source": [
    "import pandas as pd\n",
    "from datetime import datetime"
   ]
  },
  {
   "cell_type": "code",
   "execution_count": 2,
   "metadata": {
    "tags": []
   },
   "outputs": [],
   "source": [
    "def extract_from_json(file_to_process):\n",
    "    dataframe = pd.read_json(file_to_process)\n",
    "    return dataframe"
   ]
  },
  {
   "cell_type": "code",
   "execution_count": 3,
   "metadata": {
    "tags": []
   },
   "outputs": [],
   "source": [
    "cols=['Name','Market Cap (US$ Billion)']"
   ]
  },
  {
   "cell_type": "code",
   "execution_count": 4,
   "metadata": {
    "tags": []
   },
   "outputs": [],
   "source": [
    "def extract_market_cap():\n",
    "    df = pd.DataFrame(cols)\n",
    "    df = extract_from_json(\"bank_market_cap.json\")\n",
    "    return df"
   ]
  },
  {
   "cell_type": "code",
   "execution_count": 5,
   "metadata": {
    "tags": []
   },
   "outputs": [],
   "source": [
    "def extract_exchange_rates():\n",
    "    exchange_rate = pd.read_csv(\"exchange_rates.csv\")\n",
    "    exchange_rate = exchange_rate.rename(columns={\"Unnamed: 0\":\"Currency\"})\n",
    "    return exchange_rate"
   ]
  },
  {
   "cell_type": "code",
   "execution_count": 6,
   "metadata": {
    "tags": []
   },
   "outputs": [],
   "source": [
    "def transform(market_cap, currency):\n",
    "    all_rates = extract_exchange_rates()\n",
    "    rate = all_rates.loc[lambda all_rates: all_rates['Currency'] == currency]['Rates']\n",
    "    market_cap[\"Market Cap (US$ Billion)\"] = round(market_cap[\"Market Cap (US$ Billion)\"].multiply(rate.iloc[0]), 3)\n",
    "    market_cap = market_cap.rename(columns={\"Market Cap (US$ Billion)\":\"Market Cap ({} Billion)\".format(currency)})\n",
    "    return market_cap"
   ]
  },
  {
   "cell_type": "code",
   "execution_count": 7,
   "metadata": {
    "tags": []
   },
   "outputs": [],
   "source": [
    "def load(bank_market_cap, currency):\n",
    "    bank_market_cap.to_csv(\"bank_market_cap_{}.csv\".format(currency), index=False)\n",
    "    "
   ]
  },
  {
   "cell_type": "code",
   "execution_count": 8,
   "metadata": {
    "tags": []
   },
   "outputs": [],
   "source": [
    "def log(message):\n",
    "    timestamp_format = '%Y-%h-%d-%H:%M:%S' # Year-Monthname-Day-Hour-Minute-Second\n",
    "    now = datetime.now() # get current timestamp\n",
    "    timestamp = now.strftime(timestamp_format)\n",
    "    with open(\"logfile.txt\",\"a\") as f:\n",
    "        f.write(timestamp + ',' + message + '\\n')"
   ]
  },
  {
   "cell_type": "code",
   "execution_count": 9,
   "metadata": {},
   "outputs": [],
   "source": [
    "#get user input\n",
    "def get_currency():\n",
    "    user_input = input(\"Enter a currency that you would like to see (Default = USD):\")\n",
    "    all_rates = extract_exchange_rates()\n",
    "    currency = \"USD\"\n",
    "    for rate in all_rates['Currency']:\n",
    "        if (user_input == rate):\n",
    "            currency = user_input\n",
    "    return currency"
   ]
  },
  {
   "cell_type": "code",
   "execution_count": 10,
   "metadata": {
    "tags": []
   },
   "outputs": [],
   "source": [
    "# Logging started\n",
    "log(\"ETL job started\")"
   ]
  },
  {
   "cell_type": "code",
   "execution_count": 11,
   "metadata": {
    "tags": []
   },
   "outputs": [],
   "source": [
    "log(\"Extract phase started\")\n",
    "# Extracting data from market cap json\n",
    "extracted_data = extract_market_cap()\n",
    "log(\"Extract phase ended\")\n",
    "# Print the first 5 rows here\n",
    "extracted_data.head()"
   ]
  },
  {
   "cell_type": "code",
   "execution_count": 12,
   "metadata": {
    "tags": []
   },
   "outputs": [],
   "source": [
    "log(\"Transform phase started\")\n",
    "# Call the function here\n",
    "currency = get_currency()\n",
    "transformed_data = transform(extracted_data, currency)\n",
    "log(\"Transform phase ended\")\n",
    "# Print the first 5 rows here\n",
    "transformed_data.head()"
   ]
  },
  {
   "cell_type": "code",
   "execution_count": 13,
   "metadata": {
    "tags": []
   },
   "outputs": [],
   "source": [
    "log(\"Load phase started\")\n",
    "# loading into csv\n",
    "load(transformed_data, currency)\n",
    "log(\"Load phase ended\")"
   ]
  },
  {
   "cell_type": "code",
   "execution_count": 14,
   "metadata": {
    "tags": []
   },
   "outputs": [],
   "source": [
    "#Logging ended\n",
    "log(\"ETL job ended\")"
   ]
  }
 ],
 "metadata": {
  "kernelspec": {
   "display_name": "Python 3",
   "language": "python",
   "name": "python3"
  },
  "language_info": {
   "codemirror_mode": {
    "name": "ipython",
    "version": 3
   },
   "file_extension": ".py",
   "mimetype": "text/x-python",
   "name": "python",
   "nbconvert_exporter": "python",
   "pygments_lexer": "ipython3",
   "version": "3.11.5"
  }
 },
 "nbformat": 4,
 "nbformat_minor": 4
}
