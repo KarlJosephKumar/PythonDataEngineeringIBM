{
 "cells": [
  {
   "cell_type": "code",
   "execution_count": 209,
   "metadata": {
    "tags": []
   },
   "outputs": [],
   "source": [
    "import pandas as pd\n",
    "from datetime import datetime"
   ]
  },
  {
   "cell_type": "code",
   "execution_count": 210,
   "metadata": {
    "tags": []
   },
   "outputs": [],
   "source": [
    "def extract_from_json(file_to_process):\n",
    "    dataframe = pd.read_json(file_to_process)\n",
    "    return dataframe"
   ]
  },
  {
   "cell_type": "code",
   "execution_count": 211,
   "metadata": {
    "tags": []
   },
   "outputs": [],
   "source": [
    "cols=['Name','Market Cap (US$ Billion)']"
   ]
  },
  {
   "cell_type": "code",
   "execution_count": 212,
   "metadata": {
    "tags": []
   },
   "outputs": [],
   "source": [
    "def extract():\n",
    "    df = pd.DataFrame(cols)\n",
    "    df = extract_from_json(\"bank_market_cap.json\")\n",
    "    return df"
   ]
  },
  {
   "cell_type": "code",
   "execution_count": 213,
   "metadata": {
    "tags": []
   },
   "outputs": [],
   "source": [
    "# Write your code here\n",
    "def extract_exchange_rates():\n",
    "    exchange_rate = pd.read_csv(\"exchange_rates.csv\")\n",
    "    exchange_rate = exchange_rate.rename(columns={\"Unnamed: 0\":\"Currency\"})\n",
    "    return exchange_rate"
   ]
  },
  {
   "cell_type": "code",
   "execution_count": 289,
   "metadata": {
    "tags": []
   },
   "outputs": [],
   "source": [
    "def transform(market_cap, currency):\n",
    "    all_rates = extract_exchange_rates()\n",
    "    rate = all_rates.loc[lambda all_rates: all_rates['Currency'] == currency]['Rates']\n",
    "    market_cap[\"Market Cap (US$ Billion)\"] = round(market_cap[\"Market Cap (US$ Billion)\"].multiply(rate.iloc[0]), 3)\n",
    "    market_cap = market_cap.rename(columns={\"Market Cap (US$ Billion)\":\"Market Cap ({} Billion)\".format(currency)})\n",
    "    return market_cap"
   ]
  },
  {
   "cell_type": "code",
   "execution_count": 290,
   "metadata": {
    "tags": []
   },
   "outputs": [],
   "source": [
    "def load(bank_market_cap, currency):\n",
    "    bank_market_cap.to_csv(\"bank_market_cap_{currency}.csv\".format(currency), index=False)\n",
    "    "
   ]
  },
  {
   "cell_type": "code",
   "execution_count": 291,
   "metadata": {
    "tags": []
   },
   "outputs": [],
   "source": [
    "def log(message):\n",
    "    timestamp_format = '%Y-%h-%d-%H:%M:%S' # Year-Monthname-Day-Hour-Minute-Second\n",
    "    now = datetime.now() # get current timestamp\n",
    "    timestamp = now.strftime(timestamp_format)\n",
    "    with open(\"logfile.txt\",\"a\") as f:\n",
    "        f.write(timestamp + ',' + message + '\\n')"
   ]
  },
  {
   "cell_type": "code",
   "execution_count": 310,
   "metadata": {},
   "outputs": [
    {
     "name": "stdout",
     "output_type": "stream",
     "text": [
      "AUD\n",
      "BGN\n",
      "BRL\n",
      "CAD\n",
      "CHF\n",
      "CNY\n",
      "CZK\n",
      "DKK\n",
      "EUR\n",
      "GBP\n",
      "HKD\n",
      "HRK\n",
      "HUF\n",
      "IDR\n",
      "ILS\n",
      "INR\n",
      "ISK\n",
      "JPY\n",
      "KRW\n",
      "MXN\n",
      "MYR\n",
      "NOK\n",
      "NZD\n",
      "PHP\n",
      "PLN\n",
      "RON\n",
      "RUB\n",
      "SEK\n",
      "SGD\n",
      "THB\n",
      "TRY\n",
      "USD\n",
      "ZAR\n"
     ]
    }
   ],
   "source": [
    "def get_currency():\n",
    "    user_input = input(\"Enter a currency that you would like to see (Default = USD):\")\n",
    "    all_rates = extract_exchange_rates()\n",
    "    currency = \"USD\"\n",
    "    for rate in all_rates['Currency']:\n",
    "        if (user_input == rate):\n",
    "            currency = user_input\n",
    "    return currency\n",
    "\n",
    "\n",
    "get_currency()"
   ]
  },
  {
   "cell_type": "code",
   "execution_count": 292,
   "metadata": {
    "tags": []
   },
   "outputs": [],
   "source": [
    "# Write your code here\n",
    "log(\"ETL Job Started\")\n",
    "log(\"Extract phase Started\")"
   ]
  },
  {
   "cell_type": "code",
   "execution_count": 293,
   "metadata": {
    "tags": []
   },
   "outputs": [
    {
     "data": {
      "text/html": [
       "<div>\n",
       "<style scoped>\n",
       "    .dataframe tbody tr th:only-of-type {\n",
       "        vertical-align: middle;\n",
       "    }\n",
       "\n",
       "    .dataframe tbody tr th {\n",
       "        vertical-align: top;\n",
       "    }\n",
       "\n",
       "    .dataframe thead th {\n",
       "        text-align: right;\n",
       "    }\n",
       "</style>\n",
       "<table border=\"1\" class=\"dataframe\">\n",
       "  <thead>\n",
       "    <tr style=\"text-align: right;\">\n",
       "      <th></th>\n",
       "      <th>Name</th>\n",
       "      <th>Market Cap (US$ Billion)</th>\n",
       "    </tr>\n",
       "  </thead>\n",
       "  <tbody>\n",
       "    <tr>\n",
       "      <th>0</th>\n",
       "      <td>JPMorgan Chase</td>\n",
       "      <td>390.934</td>\n",
       "    </tr>\n",
       "    <tr>\n",
       "      <th>1</th>\n",
       "      <td>Industrial and Commercial Bank of China</td>\n",
       "      <td>345.214</td>\n",
       "    </tr>\n",
       "    <tr>\n",
       "      <th>2</th>\n",
       "      <td>Bank of America</td>\n",
       "      <td>325.331</td>\n",
       "    </tr>\n",
       "    <tr>\n",
       "      <th>3</th>\n",
       "      <td>Wells Fargo</td>\n",
       "      <td>308.013</td>\n",
       "    </tr>\n",
       "    <tr>\n",
       "      <th>4</th>\n",
       "      <td>China Construction Bank</td>\n",
       "      <td>257.399</td>\n",
       "    </tr>\n",
       "  </tbody>\n",
       "</table>\n",
       "</div>"
      ],
      "text/plain": [
       "                                      Name  Market Cap (US$ Billion)\n",
       "0                           JPMorgan Chase                   390.934\n",
       "1  Industrial and Commercial Bank of China                   345.214\n",
       "2                          Bank of America                   325.331\n",
       "3                              Wells Fargo                   308.013\n",
       "4                  China Construction Bank                   257.399"
      ]
     },
     "execution_count": 293,
     "metadata": {},
     "output_type": "execute_result"
    }
   ],
   "source": [
    "# Call the function here\n",
    "extracted_data = extract()\n",
    "\n",
    "# Print the rows here\n",
    "extracted_data.head()"
   ]
  },
  {
   "cell_type": "code",
   "execution_count": 294,
   "metadata": {
    "tags": []
   },
   "outputs": [],
   "source": [
    "# Write your code here\n",
    "log(\"Extract phase Ended\")"
   ]
  },
  {
   "cell_type": "code",
   "execution_count": 295,
   "metadata": {
    "tags": []
   },
   "outputs": [],
   "source": [
    "# Write your code here\n",
    "log(\"Transform phase Started\")"
   ]
  },
  {
   "cell_type": "code",
   "execution_count": 304,
   "metadata": {
    "tags": []
   },
   "outputs": [
    {
     "name": "stdout",
     "output_type": "stream",
     "text": [
      "\n",
      "e\n"
     ]
    },
    {
     "ename": "IndexError",
     "evalue": "single positional indexer is out-of-bounds",
     "output_type": "error",
     "traceback": [
      "\u001b[1;31m---------------------------------------------------------------------------\u001b[0m",
      "\u001b[1;31mIndexError\u001b[0m                                Traceback (most recent call last)",
      "\u001b[1;32mc:\\Users\\ADMIN\\Desktop\\kursus\\python\\IBM Course\\Python Project for Data Engineering\\ETL_Engineer_Peer_Review_Assignment.ipynb Cell 13\u001b[0m line \u001b[0;36m7\n\u001b[0;32m      <a href='vscode-notebook-cell:/c%3A/Users/ADMIN/Desktop/kursus/python/IBM%20Course/Python%20Project%20for%20Data%20Engineering/ETL_Engineer_Peer_Review_Assignment.ipynb#X15sZmlsZQ%3D%3D?line=4'>5</a>\u001b[0m     currency \u001b[39m=\u001b[39m \u001b[39minput\u001b[39m(\u001b[39m\"\u001b[39m\u001b[39mEnter a currency: \u001b[39m\u001b[39m\"\u001b[39m)\n\u001b[0;32m      <a href='vscode-notebook-cell:/c%3A/Users/ADMIN/Desktop/kursus/python/IBM%20Course/Python%20Project%20for%20Data%20Engineering/ETL_Engineer_Peer_Review_Assignment.ipynb#X15sZmlsZQ%3D%3D?line=5'>6</a>\u001b[0m \u001b[39mprint\u001b[39m(currency)\n\u001b[1;32m----> <a href='vscode-notebook-cell:/c%3A/Users/ADMIN/Desktop/kursus/python/IBM%20Course/Python%20Project%20for%20Data%20Engineering/ETL_Engineer_Peer_Review_Assignment.ipynb#X15sZmlsZQ%3D%3D?line=6'>7</a>\u001b[0m transformed_data \u001b[39m=\u001b[39m transform(extracted_data, currency)\n\u001b[0;32m      <a href='vscode-notebook-cell:/c%3A/Users/ADMIN/Desktop/kursus/python/IBM%20Course/Python%20Project%20for%20Data%20Engineering/ETL_Engineer_Peer_Review_Assignment.ipynb#X15sZmlsZQ%3D%3D?line=7'>8</a>\u001b[0m \u001b[39m# Print the first 5 rows here\u001b[39;00m\n\u001b[0;32m      <a href='vscode-notebook-cell:/c%3A/Users/ADMIN/Desktop/kursus/python/IBM%20Course/Python%20Project%20for%20Data%20Engineering/ETL_Engineer_Peer_Review_Assignment.ipynb#X15sZmlsZQ%3D%3D?line=8'>9</a>\u001b[0m transformed_data\u001b[39m.\u001b[39mhead()\n",
      "\u001b[1;32mc:\\Users\\ADMIN\\Desktop\\kursus\\python\\IBM Course\\Python Project for Data Engineering\\ETL_Engineer_Peer_Review_Assignment.ipynb Cell 13\u001b[0m line \u001b[0;36m4\n\u001b[0;32m      <a href='vscode-notebook-cell:/c%3A/Users/ADMIN/Desktop/kursus/python/IBM%20Course/Python%20Project%20for%20Data%20Engineering/ETL_Engineer_Peer_Review_Assignment.ipynb#X15sZmlsZQ%3D%3D?line=1'>2</a>\u001b[0m all_rates \u001b[39m=\u001b[39m extract_exchange_rates()\n\u001b[0;32m      <a href='vscode-notebook-cell:/c%3A/Users/ADMIN/Desktop/kursus/python/IBM%20Course/Python%20Project%20for%20Data%20Engineering/ETL_Engineer_Peer_Review_Assignment.ipynb#X15sZmlsZQ%3D%3D?line=2'>3</a>\u001b[0m rate \u001b[39m=\u001b[39m all_rates\u001b[39m.\u001b[39mloc[\u001b[39mlambda\u001b[39;00m all_rates: all_rates[\u001b[39m'\u001b[39m\u001b[39mCurrency\u001b[39m\u001b[39m'\u001b[39m] \u001b[39m==\u001b[39m currency][\u001b[39m'\u001b[39m\u001b[39mRates\u001b[39m\u001b[39m'\u001b[39m]\n\u001b[1;32m----> <a href='vscode-notebook-cell:/c%3A/Users/ADMIN/Desktop/kursus/python/IBM%20Course/Python%20Project%20for%20Data%20Engineering/ETL_Engineer_Peer_Review_Assignment.ipynb#X15sZmlsZQ%3D%3D?line=3'>4</a>\u001b[0m market_cap[\u001b[39m\"\u001b[39m\u001b[39mMarket Cap (US$ Billion)\u001b[39m\u001b[39m\"\u001b[39m] \u001b[39m=\u001b[39m \u001b[39mround\u001b[39m(market_cap[\u001b[39m\"\u001b[39m\u001b[39mMarket Cap (US$ Billion)\u001b[39m\u001b[39m\"\u001b[39m]\u001b[39m.\u001b[39mmultiply(rate\u001b[39m.\u001b[39;49miloc[\u001b[39m0\u001b[39;49m]), \u001b[39m3\u001b[39m)\n\u001b[0;32m      <a href='vscode-notebook-cell:/c%3A/Users/ADMIN/Desktop/kursus/python/IBM%20Course/Python%20Project%20for%20Data%20Engineering/ETL_Engineer_Peer_Review_Assignment.ipynb#X15sZmlsZQ%3D%3D?line=4'>5</a>\u001b[0m market_cap \u001b[39m=\u001b[39m market_cap\u001b[39m.\u001b[39mrename(columns\u001b[39m=\u001b[39m{\u001b[39m\"\u001b[39m\u001b[39mMarket Cap (US$ Billion)\u001b[39m\u001b[39m\"\u001b[39m:\u001b[39m\"\u001b[39m\u001b[39mMarket Cap (\u001b[39m\u001b[39m{}\u001b[39;00m\u001b[39m Billion)\u001b[39m\u001b[39m\"\u001b[39m\u001b[39m.\u001b[39mformat(currency)})\n\u001b[0;32m      <a href='vscode-notebook-cell:/c%3A/Users/ADMIN/Desktop/kursus/python/IBM%20Course/Python%20Project%20for%20Data%20Engineering/ETL_Engineer_Peer_Review_Assignment.ipynb#X15sZmlsZQ%3D%3D?line=5'>6</a>\u001b[0m \u001b[39mreturn\u001b[39;00m market_cap\n",
      "File \u001b[1;32m~\\AppData\\Local\\Packages\\PythonSoftwareFoundation.Python.3.11_qbz5n2kfra8p0\\LocalCache\\local-packages\\Python311\\site-packages\\pandas\\core\\indexing.py:1153\u001b[0m, in \u001b[0;36m_LocationIndexer.__getitem__\u001b[1;34m(self, key)\u001b[0m\n\u001b[0;32m   1150\u001b[0m axis \u001b[39m=\u001b[39m \u001b[39mself\u001b[39m\u001b[39m.\u001b[39maxis \u001b[39mor\u001b[39;00m \u001b[39m0\u001b[39m\n\u001b[0;32m   1152\u001b[0m maybe_callable \u001b[39m=\u001b[39m com\u001b[39m.\u001b[39mapply_if_callable(key, \u001b[39mself\u001b[39m\u001b[39m.\u001b[39mobj)\n\u001b[1;32m-> 1153\u001b[0m \u001b[39mreturn\u001b[39;00m \u001b[39mself\u001b[39;49m\u001b[39m.\u001b[39;49m_getitem_axis(maybe_callable, axis\u001b[39m=\u001b[39;49maxis)\n",
      "File \u001b[1;32m~\\AppData\\Local\\Packages\\PythonSoftwareFoundation.Python.3.11_qbz5n2kfra8p0\\LocalCache\\local-packages\\Python311\\site-packages\\pandas\\core\\indexing.py:1714\u001b[0m, in \u001b[0;36m_iLocIndexer._getitem_axis\u001b[1;34m(self, key, axis)\u001b[0m\n\u001b[0;32m   1711\u001b[0m     \u001b[39mraise\u001b[39;00m \u001b[39mTypeError\u001b[39;00m(\u001b[39m\"\u001b[39m\u001b[39mCannot index by location index with a non-integer key\u001b[39m\u001b[39m\"\u001b[39m)\n\u001b[0;32m   1713\u001b[0m \u001b[39m# validate the location\u001b[39;00m\n\u001b[1;32m-> 1714\u001b[0m \u001b[39mself\u001b[39;49m\u001b[39m.\u001b[39;49m_validate_integer(key, axis)\n\u001b[0;32m   1716\u001b[0m \u001b[39mreturn\u001b[39;00m \u001b[39mself\u001b[39m\u001b[39m.\u001b[39mobj\u001b[39m.\u001b[39m_ixs(key, axis\u001b[39m=\u001b[39maxis)\n",
      "File \u001b[1;32m~\\AppData\\Local\\Packages\\PythonSoftwareFoundation.Python.3.11_qbz5n2kfra8p0\\LocalCache\\local-packages\\Python311\\site-packages\\pandas\\core\\indexing.py:1647\u001b[0m, in \u001b[0;36m_iLocIndexer._validate_integer\u001b[1;34m(self, key, axis)\u001b[0m\n\u001b[0;32m   1645\u001b[0m len_axis \u001b[39m=\u001b[39m \u001b[39mlen\u001b[39m(\u001b[39mself\u001b[39m\u001b[39m.\u001b[39mobj\u001b[39m.\u001b[39m_get_axis(axis))\n\u001b[0;32m   1646\u001b[0m \u001b[39mif\u001b[39;00m key \u001b[39m>\u001b[39m\u001b[39m=\u001b[39m len_axis \u001b[39mor\u001b[39;00m key \u001b[39m<\u001b[39m \u001b[39m-\u001b[39mlen_axis:\n\u001b[1;32m-> 1647\u001b[0m     \u001b[39mraise\u001b[39;00m \u001b[39mIndexError\u001b[39;00m(\u001b[39m\"\u001b[39m\u001b[39msingle positional indexer is out-of-bounds\u001b[39m\u001b[39m\"\u001b[39m)\n",
      "\u001b[1;31mIndexError\u001b[0m: single positional indexer is out-of-bounds"
     ]
    }
   ],
   "source": [
    "# Call the function here\n",
    "currency = get_currency()\n",
    "transformed_data = transform(extracted_data, currency)\n",
    "# Print the first 5 rows here\n",
    "transformed_data.head()"
   ]
  },
  {
   "cell_type": "code",
   "execution_count": 230,
   "metadata": {
    "tags": []
   },
   "outputs": [],
   "source": [
    "# Write your code here\n",
    "log(\"Transform phase Ended\")"
   ]
  },
  {
   "cell_type": "code",
   "execution_count": 231,
   "metadata": {
    "tags": []
   },
   "outputs": [],
   "source": [
    "# Write your code here\n",
    "log(\"Load phase Started\")"
   ]
  },
  {
   "cell_type": "code",
   "execution_count": null,
   "metadata": {
    "tags": []
   },
   "outputs": [],
   "source": [
    "# Write your code here\n",
    "load(transformed_data, currency)"
   ]
  },
  {
   "cell_type": "code",
   "execution_count": 163,
   "metadata": {
    "tags": []
   },
   "outputs": [],
   "source": [
    "# Write your code here\n",
    "log(\"Load phase Ended\")"
   ]
  },
  {
   "cell_type": "code",
   "execution_count": 272,
   "metadata": {},
   "outputs": [
    {
     "name": "stdout",
     "output_type": "stream",
     "text": [
      "0.7323984208000001\n"
     ]
    }
   ],
   "source": [
    "currency = \"GBP\"\n",
    "all_rates = extract_exchange_rates()\n",
    "# rate = float(all_rates[all_rates['Currency'] == currency]['Rates'])\n",
    "rate = all_rates.loc[lambda all_rates: all_rates['Currency'] == currency]['Rates']\n",
    "print(float(rate.iloc[0]))"
   ]
  },
  {
   "cell_type": "code",
   "execution_count": null,
   "metadata": {},
   "outputs": [],
   "source": []
  },
  {
   "cell_type": "code",
   "execution_count": null,
   "metadata": {},
   "outputs": [],
   "source": []
  }
 ],
 "metadata": {
  "kernelspec": {
   "display_name": "Python 3",
   "language": "python",
   "name": "python3"
  },
  "language_info": {
   "codemirror_mode": {
    "name": "ipython",
    "version": 3
   },
   "file_extension": ".py",
   "mimetype": "text/x-python",
   "name": "python",
   "nbconvert_exporter": "python",
   "pygments_lexer": "ipython3",
   "version": "3.11.5"
  }
 },
 "nbformat": 4,
 "nbformat_minor": 4
}
